{
 "cells": [
  {
   "cell_type": "code",
   "execution_count": 20,
   "id": "d3a55cf2",
   "metadata": {},
   "outputs": [
    {
     "name": "stdout",
     "output_type": "stream",
     "text": [
      "cancer dataset features:\n",
      "dict_keys(['data', 'target', 'frame', 'target_names', 'DESCR', 'feature_names', 'filename', 'data_module'])\n",
      "cancer datapoints:\n",
      "[[1.799e+01 1.038e+01 1.228e+02 ... 2.654e-01 4.601e-01 1.189e-01]\n",
      " [2.057e+01 1.777e+01 1.329e+02 ... 1.860e-01 2.750e-01 8.902e-02]\n",
      " [1.969e+01 2.125e+01 1.300e+02 ... 2.430e-01 3.613e-01 8.758e-02]\n",
      " ...\n",
      " [1.660e+01 2.808e+01 1.083e+02 ... 1.418e-01 2.218e-01 7.820e-02]\n",
      " [2.060e+01 2.933e+01 1.401e+02 ... 2.650e-01 4.087e-01 1.240e-01]\n",
      " [7.760e+00 2.454e+01 4.792e+01 ... 0.000e+00 2.871e-01 7.039e-02]]\n",
      "shape of X_train, y_train: (426, 30),(426,)\n",
      "shape of X_test, y_test: (143, 30),(143,)\n",
      "\n",
      "Training set score before scaling: 0.941\n",
      "Test set score before scaling: 0.944\n",
      "\n",
      "Training set score after scaling: 1.000\n",
      "Test set score after scaling: 0.965\n",
      "\n",
      "Training set score after scaling using StandardScaler: 1.000\n",
      "Test set score after scaling using StandardScaler: 0.958\n"
     ]
    }
   ],
   "source": [
    "from sklearn.datasets import load_breast_cancer\n",
    "from sklearn.svm import SVC\n",
    "from sklearn.model_selection import train_test_split\n",
    "from sklearn.preprocessing import MinMaxScaler, StandardScaler\n",
    "\n",
    "#loading the cancer data set\n",
    "cancer = load_breast_cancer()\n",
    "#printing the details of cancer dataset\n",
    "print(\"cancer dataset features:\\n{}\".format(cancer.keys()))\n",
    "print(\"cancer datapoints:\\n{}\".format(cancer.data))\n",
    "#spliting the dataset\n",
    "X_train, X_test, y_train, y_test = train_test_split(cancer.data, cancer.target, random_state=0)\n",
    "#printing the shape of each\n",
    "print(\"shape of X_train, y_train: {},{}\".format(X_train.shape, y_train.shape))\n",
    "print(\"shape of X_test, y_test: {},{}\\n\".format(X_test.shape, y_test.shape))\n",
    "#30 features present for each datapoint\n",
    "#training the SVC model on training dataset\n",
    "svm = SVC(C=100)\n",
    "svm.fit(X_train, y_train)\n",
    "#printing the score of prediction before scaling of dataset\n",
    "print(\"Training set score before scaling: {:.3f}\".format(svm.score(X_train, y_train)))\n",
    "print(\"Test set score before scaling: {:.3f}\\n\".format(svm.score(X_test, y_test)))\n",
    "\n",
    "#scaling and transforming the dataset\n",
    "minmax_scaler = MinMaxScaler()\n",
    "#fit the scaler on training dataset and apply the same scaler on test set to\n",
    "# the same transformation on test set\n",
    "minmax_scaler.fit(X_train)\n",
    "#transforming the training and test set\n",
    "X_train_scaled = minmax_scaler.transform(X_train)\n",
    "X_test_scaled = minmax_scaler.transform(X_test)\n",
    "#checking the score of svm on scaled dataset\n",
    "#learning svm on scaled dataset\n",
    "svm.fit(X_train_scaled, y_train)\n",
    "print(\"Training set score after scaling: {:.3f}\".format(svm.score(X_train_scaled, y_train)))\n",
    "print(\"Test set score after scaling: {:.3f}\\n\".format(svm.score(X_test_scaled, y_test)))\n",
    "#using StandardScaler\n",
    "std_scaler = StandardScaler()\n",
    "#fiting std_scaler on X_train and scaling the data\n",
    "std_scaler.fit(X_train)\n",
    "X_train_scaled_std = std_scaler.transform(X_train)\n",
    "X_test_scaled_std = std_scaler.transform(X_test)\n",
    "#training the model on the scaled dataset\n",
    "svm.fit(X_train_scaled_std, y_train)\n",
    "#predicting\n",
    "print(\"Training set score after scaling using StandardScaler: {:.3f}\".format(svm.score(X_train_scaled_std, y_train)))\n",
    "print(\"Test set score after scaling using StandardScaler: {:.3f}\".format(svm.score(X_test_scaled_std, y_test)))"
   ]
  },
  {
   "cell_type": "code",
   "execution_count": null,
   "id": "feecc1bf",
   "metadata": {},
   "outputs": [],
   "source": []
  }
 ],
 "metadata": {
  "kernelspec": {
   "display_name": "Python 3 (ipykernel)",
   "language": "python",
   "name": "python3"
  },
  "language_info": {
   "codemirror_mode": {
    "name": "ipython",
    "version": 3
   },
   "file_extension": ".py",
   "mimetype": "text/x-python",
   "name": "python",
   "nbconvert_exporter": "python",
   "pygments_lexer": "ipython3",
   "version": "3.9.5"
  }
 },
 "nbformat": 4,
 "nbformat_minor": 5
}
